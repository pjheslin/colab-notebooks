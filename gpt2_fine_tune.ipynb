{
  "nbformat": 4,
  "nbformat_minor": 0,
  "metadata": {
    "colab": {
      "name": "gpt2-fine-tune.ipynb",
      "provenance": [],
      "authorship_tag": "ABX9TyMHqYdqm6d5v3htPvgkr8uF",
      "include_colab_link": true
    },
    "kernelspec": {
      "name": "python3",
      "display_name": "Python 3"
    },
    "language_info": {
      "name": "python"
    },
    "accelerator": "GPU"
  },
  "cells": [
    {
      "cell_type": "markdown",
      "metadata": {
        "id": "view-in-github",
        "colab_type": "text"
      },
      "source": [
        "<a href=\"https://colab.research.google.com/github/pjheslin/colab-notebooks/blob/main/gpt2_fine_tune.ipynb\" target=\"_parent\"><img src=\"https://colab.research.google.com/assets/colab-badge.svg\" alt=\"Open In Colab\"/></a>"
      ]
    },
    {
      "cell_type": "markdown",
      "source": [
        "# Fine-tuning GPT-2 to write Shakespeare\n",
        "\n",
        "Code adapted and updated for more recent versions of Huggingface libraries from [this blog](http://education.abcom.com/using-gpt-2-to-write-like-shakespeare/)."
      ],
      "metadata": {
        "id": "E2gwBwsZGmT5"
      }
    },
    {
      "cell_type": "code",
      "execution_count": null,
      "metadata": {
        "id": "265XBR_aA9Ky"
      },
      "outputs": [],
      "source": [
        "!pip install git+https://github.com/huggingface/transformers"
      ]
    },
    {
      "cell_type": "code",
      "source": [
        "!pip install --upgrade pyarrow"
      ],
      "metadata": {
        "id": "2ZUMfHDFBBk0"
      },
      "execution_count": null,
      "outputs": []
    },
    {
      "cell_type": "code",
      "source": [
        "!pip install git+https://github.com/huggingface/datasets"
      ],
      "metadata": {
        "id": "HxMLs968FEGf"
      },
      "execution_count": null,
      "outputs": []
    },
    {
      "cell_type": "code",
      "source": [
        "!wget https://raw.githubusercontent.com/karpathy/char-rnn/master/data/tinyshakespeare/input.txt\n"
      ],
      "metadata": {
        "id": "IRkwzGHyBLdL"
      },
      "execution_count": null,
      "outputs": []
    },
    {
      "cell_type": "code",
      "source": [
        "!mkdir output"
      ],
      "metadata": {
        "id": "e38-ra47BR8b"
      },
      "execution_count": null,
      "outputs": []
    },
    {
      "cell_type": "code",
      "source": [
        "!wget https://raw.githubusercontent.com/huggingface/transformers/master/examples/pytorch/language-modeling/run_clm.py"
      ],
      "metadata": {
        "id": "3VqQ_q_zEDVu"
      },
      "execution_count": null,
      "outputs": []
    },
    {
      "cell_type": "code",
      "source": [
        "import datasets"
      ],
      "metadata": {
        "id": "8_9tL1PeE7g5"
      },
      "execution_count": null,
      "outputs": []
    },
    {
      "cell_type": "code",
      "source": [
        "!python run_clm.py \\\n",
        "    --model_name_or_path gpt2 \\\n",
        "    --train_file '/content/input.txt' \\\n",
        "    --per_device_train_batch_size 1 \\\n",
        "    --per_device_eval_batch_size 1 \\\n",
        "    --do_train \\\n",
        "    --do_eval \\\n",
        "    --output_dir /output \\\n",
        "    --overwrite_output_dir"
      ],
      "metadata": {
        "id": "1QWx0UBoEUO9"
      },
      "execution_count": null,
      "outputs": []
    },
    {
      "cell_type": "markdown",
      "source": [
        ""
      ],
      "metadata": {
        "id": "wmaiQsMEEQHo"
      }
    },
    {
      "cell_type": "code",
      "source": [
        "from transformers import GPT2Tokenizer, GPT2LMHeadModel\n",
        " \n",
        "tokenizer = GPT2Tokenizer.from_pretrained('/output')\n",
        "model = GPT2LMHeadModel.from_pretrained('/output')"
      ],
      "metadata": {
        "id": "_3P7KUudCC8r"
      },
      "execution_count": null,
      "outputs": []
    },
    {
      "cell_type": "code",
      "source": [
        "ids = tokenizer.encode('To be or not to be, that is the',\n",
        "                      return_tensors='pt')"
      ],
      "metadata": {
        "id": "Qt-V4Qj2CSIL"
      },
      "execution_count": null,
      "outputs": []
    },
    {
      "cell_type": "code",
      "source": [
        "greedy_output = model.generate(ids, max_length=100)"
      ],
      "metadata": {
        "id": "Xw9qCefpH4xC"
      },
      "execution_count": null,
      "outputs": []
    },
    {
      "cell_type": "code",
      "source": [
        "print(tokenizer.decode(greedy_output[0], skip_special_tokens=True))"
      ],
      "metadata": {
        "id": "VsfsLrcnH7Nj"
      },
      "execution_count": null,
      "outputs": []
    },
    {
      "cell_type": "code",
      "source": [
        "beam_output = model.generate(\n",
        "    ids, \n",
        "    max_length=100, \n",
        "    num_beams=4, \n",
        "    early_stopping=True\n",
        ")"
      ],
      "metadata": {
        "id": "vUInKIlNIEH_"
      },
      "execution_count": null,
      "outputs": []
    },
    {
      "cell_type": "code",
      "source": [
        "print(tokenizer.decode(beam_output[0], skip_special_tokens=True))"
      ],
      "metadata": {
        "id": "KBlC2xURIaYL"
      },
      "execution_count": null,
      "outputs": []
    },
    {
      "cell_type": "code",
      "source": [
        "import tensorflow as tf\n",
        "tf.random.set_seed(0)"
      ],
      "metadata": {
        "id": "2sySEJnzIey0"
      },
      "execution_count": null,
      "outputs": []
    },
    {
      "cell_type": "code",
      "source": [
        "sample_output = model.generate(\n",
        "    ids, \n",
        "    do_sample=True, \n",
        "    max_length=100\n",
        ")"
      ],
      "metadata": {
        "id": "GIgFKUqvIspH"
      },
      "execution_count": null,
      "outputs": []
    },
    {
      "cell_type": "code",
      "source": [
        "print(tokenizer.decode(sample_output[0], skip_special_tokens=True))"
      ],
      "metadata": {
        "id": "kPBJttOrIxgL"
      },
      "execution_count": null,
      "outputs": []
    },
    {
      "cell_type": "code",
      "source": [
        "tf.random.set_seed(0)\n",
        " \n",
        "# set top_k to 50\n",
        "top_k_output = model.generate(\n",
        "    ids, \n",
        "    do_sample=True, \n",
        "    max_length=100, \n",
        "    top_k=50\n",
        ")"
      ],
      "metadata": {
        "id": "_ux_0d5ZI2ak"
      },
      "execution_count": null,
      "outputs": []
    },
    {
      "cell_type": "code",
      "source": [
        "print(tokenizer.decode(top_k_output[0], skip_special_tokens=True))"
      ],
      "metadata": {
        "id": "0-lwQEv7JESX"
      },
      "execution_count": null,
      "outputs": []
    },
    {
      "cell_type": "code",
      "source": [
        "tf.random.set_seed(1)\n",
        " \n",
        "# set top_k = 50 and set top_p = 0.95 \n",
        "final_output = model.generate(\n",
        "    ids,\n",
        "    do_sample=True, \n",
        "    max_length=100, \n",
        "    top_k=40, \n",
        "    top_p=0.95, \n",
        ")"
      ],
      "metadata": {
        "id": "T7IlH2xRJH7c"
      },
      "execution_count": null,
      "outputs": []
    },
    {
      "cell_type": "code",
      "source": [
        "print(tokenizer.decode(final_output[0], skip_special_tokens=True))"
      ],
      "metadata": {
        "id": "ZRz_gVOmJSw9"
      },
      "execution_count": null,
      "outputs": []
    },
    {
      "cell_type": "code",
      "source": [
        ""
      ],
      "metadata": {
        "id": "ojkAiKWbJUvl"
      },
      "execution_count": null,
      "outputs": []
    }
  ]
}